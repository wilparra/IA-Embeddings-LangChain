{
 "cells": [
  {
   "cell_type": "markdown",
   "id": "ddc3ff77-6dd2-4c6b-85f9-30820f0c0106",
   "metadata": {},
   "source": [
    "# Ejmplo de RAG - Retrival Augmnted Generation"
   ]
  },
  {
   "cell_type": "code",
   "execution_count": null,
   "id": "fa36c33c-4164-4510-8874-1cbcf85a2f96",
   "metadata": {},
   "outputs": [],
   "source": [
    "#!pip install python-dotenv"
   ]
  },
  {
   "cell_type": "code",
   "execution_count": null,
   "id": "e4a030a1-d35b-43ed-b534-8c81ca84fdf4",
   "metadata": {},
   "outputs": [],
   "source": [
    "#!pip install weaviate-client==4.5.4"
   ]
  },
  {
   "cell_type": "code",
   "execution_count": null,
   "id": "66082cb8-0fe3-49ef-9367-07f7343b132c",
   "metadata": {},
   "outputs": [],
   "source": [
    "#!pip install langchain==0.1.16"
   ]
  },
  {
   "cell_type": "code",
   "execution_count": null,
   "id": "f4d6aa9d-9cec-493b-acbc-6d9278fb8e74",
   "metadata": {},
   "outputs": [],
   "source": [
    "#!pip install sentence-transformers==2.6.1"
   ]
  },
  {
   "cell_type": "code",
   "execution_count": null,
   "id": "fed3c97f-4f8b-4cc9-8057-dc86db37ed1a",
   "metadata": {},
   "outputs": [],
   "source": [
    "#!pip install google-generativeai==0.5.2"
   ]
  },
  {
   "cell_type": "code",
   "execution_count": null,
   "id": "3418fe87-b7e3-4abb-8898-74da8f743d6e",
   "metadata": {},
   "outputs": [],
   "source": [
    "#!pip uninstall protobuf -y"
   ]
  },
  {
   "cell_type": "code",
   "execution_count": null,
   "id": "ea4568c2-8410-4aad-8cd7-92753d34d001",
   "metadata": {},
   "outputs": [],
   "source": [
    "#!pip install protobuf==4.25.7"
   ]
  },
  {
   "cell_type": "markdown",
   "id": "7f634b35-25a0-4462-b7d0-36652f72eb2a",
   "metadata": {},
   "source": [
    "### Dependencias usadas para que corra sin problema:"
   ]
  },
  {
   "cell_type": "code",
   "execution_count": null,
   "id": "ff3d51c1-cbe4-462a-a851-74e14b59ff37",
   "metadata": {},
   "outputs": [],
   "source": [
    "#- pip:\n",
    "#      - aiohappyeyeballs==2.6.1       - aiohttp==3.11.18      - aiosignal==1.3.2       - annotated-types==0.7.0       - authlib==1.5.2\n",
    "#      - cachetools==5.5.2       - cryptography==45.0.2       - dataclasses-json==0.6.7       - filelock==3.18.0\n",
    "#      - frozenlist==1.6.0       - fsspec==2025.5.0       - google-ai-generativelanguage==0.6.2       - google-api-core==2.25.0rc1\n",
    "#      - google-api-python-client==2.169.0       - google-auth==2.40.1       - google-auth-httplib2==0.2.0       - google-generativeai==0.5.2\n",
    "#      - googleapis-common-protos==1.70.0       - greenlet==3.2.2       - grpcio==1.71.0       - grpcio-health-checking==1.62.3\n",
    "#      - grpcio-status==1.62.3      - grpcio-tools==1.62.3       - httplib2==0.22.0       - httpx==0.27.0\n",
    "#      - huggingface-hub==0.31.4       - joblib==1.5.0       - jsonpatch==1.33       - jsonpointer==3.0.0\n",
    "#      - langchain==0.1.16       - langchain-community==0.0.38       - langchain-core==0.1.53       - langchain-text-splitters==0.0.2\n",
    "#      - langsmith==0.1.147       - marshmallow==3.26.1       - mpmath==1.3.0       - multidict==6.4.4\n",
    "#      - mypy-extensions==1.1.0       - networkx==3.4.2       - numpy==1.26.4       - orjson==3.10.18\n",
    "#      - packaging==23.2       - pillow==11.2.1       - propcache==0.3.1       - proto-plus==1.26.1\n",
    "#      - protobuf==4.25.7       - pyasn1==0.6.1       - pyasn1-modules==0.4.2       - pydantic==2.11.4\n",
    "#      - pydantic-core==2.33.2       - pyparsing==3.2.3       - python-dotenv==1.1.0       - regex==2024.11.6\n",
    "#      - requests-toolbelt==1.0.0       - rsa==4.9.1       - safetensors==0.5.3       - scikit-learn==1.6.1\n",
    "#      - scipy==1.15.3       - sentence-transformers==2.6.1       - sqlalchemy==2.0.41       - sympy==1.14.0\n",
    "#      - tenacity==8.5.0       - threadpoolctl==3.6.0       - tokenizers==0.21.1       - torch==2.7.0\n",
    "#      - tqdm==4.67.1       - transformers==4.52.2       - typing-inspect==0.9.0       - typing-inspection==0.4.0\n",
    "#      - uritemplate==4.1.1       - validators==0.22.0       - weaviate-client==4.5.4       - yarl==1.20.0\n"
   ]
  },
  {
   "cell_type": "markdown",
   "id": "7f6f74d2-578c-4edb-86c4-6573ea3ddf4c",
   "metadata": {},
   "source": [
    "## Se carga la configuración local del archivo .env que contiene las llaves de acceso a Geminai de google."
   ]
  },
  {
   "cell_type": "code",
   "execution_count": null,
   "id": "4ecd1f1e-5f4f-40c9-929b-94b54be6493e",
   "metadata": {},
   "outputs": [],
   "source": [
    "from dotenv import load_dotenv\n",
    "import os\n",
    "load_dotenv()\n",
    "print(os.environ[\"GOOGLE_API_KEY\"])"
   ]
  },
  {
   "cell_type": "markdown",
   "id": "54529896-e135-46da-a8a1-acccb0e6988e",
   "metadata": {},
   "source": [
    "## Ejemplo de implementación de Embeddings opensource, sobre weaviate, con a IA gratuita de Google."
   ]
  },
  {
   "cell_type": "code",
   "execution_count": null,
   "id": "8f749dac-330a-4380-8559-85a05a203c2f",
   "metadata": {},
   "outputs": [],
   "source": [
    "import weaviate\n",
    "from langchain.text_splitter import RecursiveCharacterTextSplitter\n",
    "from sentence_transformers import SentenceTransformer\n",
    "import google.generativeai as genai\n",
    "\n",
    "# Configuración de Gemini \n",
    "genai.configure(api_key=os.environ[\"GOOGLE_API_KEY\"])\n",
    "# 1. Cargar el libro\n",
    "\n",
    "with open('La-Republilca-Platon.txt', encoding='utf-8') as f:\n",
    "    libro = f.read()\n",
    "\n",
    "# 2. Separar en chunks semánticos\n",
    "\n",
    "splitter = RecursiveCharacterTextSplitter(\n",
    "    chunk_size = 500,\n",
    "    chunk_overlap = 50\n",
    ")\n",
    "\n",
    "chunks = splitter.split_text(libro)\n",
    "\n",
    "print(f\"Numero de pedazos: {len(chunks)}\")\n",
    "print(chunks[0])\n",
    "\n",
    "# 3. Inicializar el modelo de embedding opensource\n",
    "embedder = SentenceTransformer(\"all-MiniLM-L6-v2\")\n",
    "\n",
    "# 4. Conectar a Weaviate local\n",
    "\n",
    "client = weaviate.Client(\"http://localhost:8080\")\n",
    "\n",
    "\n",
    "# 5. Crear esquema de weaviate si no existe\n",
    "\n",
    "if not client.schema.exists(\"LibroChunk\"):\n",
    "    client.schema.create_class({\n",
    "        \"class\":\"LibroChunk\",\n",
    "        \"vectorizer\":\"none\",\n",
    "        \"properties\":[\n",
    "            {\"name\":\"texto\",\"dataType\":[\"text\"]}\n",
    "        ],\n",
    "    })    \n",
    "\n",
    "# 6. Indexar los chunks en Weaviate\n",
    "\n",
    "for chunk in chunks:\n",
    "    vector = embedder.encode(chunk).tolist()\n",
    "    client.data_object.create(\n",
    "        data_object = {\"texto\":chunk},\n",
    "        class_name = \"LibroChunk\",\n",
    "        vector=vector\n",
    "    )\n",
    "\n",
    "# 7. Funcion para consultar por tema usando embeddings y Gemini\n",
    "def consulta_libro(pregunta):\n",
    "    pregunta_vector = embedder.encode(pregunta).tolist()\n",
    "    # Busca los tres chunks más relevantes\n",
    "    result = client.query.get(\"LibroChunk\",[\"texto\"]).with_near_vector({\"vector\":pregunta_vector}).with_limit(3).do()\n",
    "    textos = [d[\"texto\"] for d in result[\"data\"][\"Get\"][\"LibroChunk\"]]\n",
    "    print(\"------------------------ TEXTOS -----------------------------\")\n",
    "    print(textos)\n",
    "    print(\"-------------------------------------------------------------\")\n",
    "    contexto = \"\\n\".join(textos)\n",
    "    # Crear el modelo Gemini\n",
    "    model = genai.GenerativeModel(\"gemini-2.0-flash\")\n",
    "#    respuesta = model.generate_content(\n",
    "#        [\n",
    "#            {\"role\":\"system\",\"parts\":[{\"text\":\"Responde usando solo el contexto proporcionado.\"}]},\n",
    "#            {\"role\":\"user\",\"parts\":[{\"text\":f\"Contexto:\\n{contexto}\\n\\nPregunta: {pregunta}\"}]}\n",
    "#        ]\n",
    "    respuesta = model.generate_content(\n",
    "        [\n",
    "            {\"role\":\"user\",\"parts\":[{\"text\":f\"Responde solo usando el contexto proporcionado.\\n\\nContexto:\\n{contexto}\\n\\nPregunta: {pregunta}\"}]}\n",
    "        ]\n",
    "    )\n",
    "    return respuesta.text\n",
    "\n",
    "def elimina_esquema(esquema):\n",
    "    client = weaviate.Client(\"http://localhost:8080\")\n",
    "    if client.schema.exists(esquema):\n",
    "        client.schema.delete_class(esquema)\n",
    "        print(f\"Esquema {esquema} eliminado correctamente\")\n",
    "    else:\n",
    "        print(f\"El esquema {esquema} no existe.\")\n",
    "\n",
    "# 8. Ejemplo de pregunta\n",
    "if __name__==\"__main__\":\n",
    "    #elimina_esquema(\"LibroChunk\")\n",
    "    pregunta = \"¿Qué dice el texto sobre gobernar?\"\n",
    "    print(\"Pregunta:\", pregunta)\n",
    "    print(\"Respuesta:\",consulta_libro(pregunta))\n",
    "    \n",
    "    pregunta = \"¿Qué dice el texto sobre la democracia?\"\n",
    "    print(\"Pregunta:\", pregunta)\n",
    "    print(\"Respuesta:\",consulta_libro(pregunta))\n",
    "\n",
    "    \n",
    "    "
   ]
  },
  {
   "cell_type": "code",
   "execution_count": null,
   "id": "59bd4c62-7287-4fe8-b8c2-5921033e62d6",
   "metadata": {},
   "outputs": [],
   "source": []
  }
 ],
 "metadata": {
  "kernelspec": {
   "display_name": "Python 3 (ipykernel)",
   "language": "python",
   "name": "python3"
  },
  "language_info": {
   "codemirror_mode": {
    "name": "ipython",
    "version": 3
   },
   "file_extension": ".py",
   "mimetype": "text/x-python",
   "name": "python",
   "nbconvert_exporter": "python",
   "pygments_lexer": "ipython3",
   "version": "3.12.9"
  }
 },
 "nbformat": 4,
 "nbformat_minor": 5
}
